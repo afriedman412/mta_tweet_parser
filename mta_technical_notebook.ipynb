{
 "cells": [
  {
   "cell_type": "markdown",
   "metadata": {},
   "source": [
    "# Extracting New York Subway lines from tweets\n",
    "In 2018, the Metropolitan Transit Authority made a splash by very publicly hiring a new team of public-facing employees. Subway service has notably declined in New York City, as officials opted to spend on high-profile new lines and station remodeling instead of desperately-needed maintanance. Making matters worse was the very public feud between New York Governor Andrew Cuomo and New York City Mayor Bill DiBlasio. Ownership of the quasi-public MTA is a complicated issue, as its jurisdiction extends beyond the city limits (to say nothing of the financial implications of its performance for the entire state). \n",
    "\n",
    "Anyways, while it remains unclear when the subway will once again run reliably, these new hires meant a significantly improved social media team. The official MTA twitter feed (@NYCTSubway, for some reason) no longer only tweets cryptic, formulaic messages with vague warnings. Service advisories are more timely and somewhat less opaque. The account now also responds to individual tweets complaining about service.\n",
    "\n",
    "So what can we learn from the MTA's tweets (and mentions)?"
   ]
  },
  {
   "cell_type": "markdown",
   "metadata": {},
   "source": [
    "## Parsing the tweets\n",
    "Using [Get Old Tweets](https://github.com/Jefferson-Henrique/GetOldTweets-python), a straightforward Python wrapper for the Twitter API, I downloaded every tweet available containing 'nyctsubway'. (The module is set up so that this returns tweets from and to the search term.)\n",
    "\n",
    "The most basic question when looking at the MTA tweets is which lines get mentioned the most. We will explore what getting lots of mentions actually means later, but first we need to figure out which tweets mention which trains."
   ]
  },
  {
   "cell_type": "code",
   "execution_count": 1,
   "metadata": {
    "collapsed": true
   },
   "outputs": [],
   "source": [
    "import pandas as pd\n",
    "import numpy as np\n",
    "import scipy.sparse as sparse\n",
    "import matplotlib.pyplot as plt\n",
    "import re\n",
    "import seaborn as sns\n",
    "%matplotlib inline\n",
    "\n",
    "from unidecode import unidecode\n",
    "from sklearn.model_selection import train_test_split\n",
    "from sklearn.feature_extraction.text import CountVectorizer\n",
    "from nltk.corpus import stopwords\n",
    "from sklearn.metrics import classification_report, confusion_matrix\n",
    "from sklearn.linear_model import LogisticRegression\n",
    "from sklearn.ensemble import RandomForestClassifier\n",
    "from sklearn.preprocessing import LabelEncoder\n",
    "\n",
    "import spacy "
   ]
  },
  {
   "cell_type": "markdown",
   "metadata": {},
   "source": [
    "## Data cleaning\n",
    "We want to look at the raw text of a tweet, and EDA revealed a few common features we wouldn't need. The `custom_process` function does the following:\n",
    "- Skips any tweet with 'swarmapp' in it (Swarm geotags often include subway lines and automatically mention NYCTSubway but don't seem relevent\n",
    "- Removes any HTTP links\n",
    "- Removes 'n/b' and 's/b', common shorthand for \"northbound\" and \"southbound\" that complicate the parsing process\n",
    "- Removes selected punctuation ('^' and '$' are left in)\n",
    "- Replaces '/' with a space (subway lines are often concatenated with a slash)\n",
    "- Removes 'nyctsubway' (it's just noise!)"
   ]
  },
  {
   "cell_type": "code",
   "execution_count": 2,
   "metadata": {
    "collapsed": true
   },
   "outputs": [],
   "source": [
    "# processes text for vectorizing\n",
    "def custom_process(text):\n",
    "    \n",
    "    t = unidecode(text)\n",
    "    if 'swarmapp' in t:\n",
    "        return 'skip'\n",
    "    \n",
    "    # remove links\n",
    "    t = re.sub(r'http:\\S+', '', t)\n",
    "    t = re.sub(r'https:\\S+', '', t)\n",
    "    \n",
    "    # remove 'n/b' and 's/b'\n",
    "    t= re.sub(r'[ns]\\/b', '', t)\n",
    "    \n",
    "    # remove selected punctuation\n",
    "    punc = r'[!\"#%&\\'*+,-.:;<=>?@\\[\\\\\\]_`{|}~\\(\\)]'\n",
    "    t = re.sub(punc, '', t)\n",
    "    t = re.sub(r'\\/', ' ', t)\n",
    "    \n",
    "    # remove 'nyctsubway'\n",
    "    t = ' '.join([w for w in t.split() if w.lower() not in ['nyctsubway']])\n",
    "\n",
    "    return t"
   ]
  },
  {
   "cell_type": "markdown",
   "metadata": {},
   "source": [
    "## Data imports\n",
    "Reading in previously scraped tweets, parsed as will be described further down."
   ]
  },
  {
   "cell_type": "code",
   "execution_count": 3,
   "metadata": {
    "collapsed": true
   },
   "outputs": [],
   "source": [
    "# converting 'x' in 'tag' to actual train lines\n",
    "def convert_x_tags(row):\n",
    "    tag = str(row['tag']).lower()\n",
    "    if tag == 'x':\n",
    "        return str(row['text']).lower()\n",
    "    else:\n",
    "        return tag\n",
    "    \n",
    "# creating 'match' feature -- finds 'len' of 1 where 'confirmed_tag' is ''\n",
    "def find_null_match(row):\n",
    "    if row['len'] == 1:\n",
    "        if str(row['text']).lower() == row['confirmed_tag']:\n",
    "                return 1\n",
    "        else:\n",
    "            return 0\n",
    "    else:\n",
    "        return 0"
   ]
  },
  {
   "cell_type": "code",
   "execution_count": 4,
   "metadata": {},
   "outputs": [
    {
     "name": "stderr",
     "output_type": "stream",
     "text": [
      "/anaconda3/lib/python3.6/site-packages/IPython/core/interactiveshell.py:2698: DtypeWarning: Columns (7) have mixed types. Specify dtype option on import or set low_memory=False.\n",
      "  interactivity=interactivity, compiler=compiler, result=result)\n"
     ]
    }
   ],
   "source": [
    "tagged_trigrams = pd.read_csv('trigrams_10k_tagged.csv').drop('Unnamed: 7', 1)\n",
    "tagged_trigrams['confirmed_tag'] = tagged_trigrams.apply(convert_x_tags, 1)\n",
    "tagged_trigrams['confirmed_tag'] = tagged_trigrams['confirmed_tag'].map(lambda x: '' if x == 'nan' else x)\n",
    "tagged_trigrams['match'] = tagged_trigrams.apply(find_null_match, 1)\n",
    "\n",
    "sen_tags = tagged_trigrams[['sentence','confirmed_tag'\n",
    "             ]].groupby('sentence').sum().reset_index().rename(columns={'confirmed_tag':'sentence_tag'})\n",
    "tagged_trigrams = pd.merge(tagged_trigrams, sen_tags, on='sentence')"
   ]
  },
  {
   "cell_type": "code",
   "execution_count": 5,
   "metadata": {
    "collapsed": true
   },
   "outputs": [],
   "source": [
    "spacy_10k_full = pd.read_csv('spacy_ngrams_10k_full.csv')"
   ]
  },
  {
   "cell_type": "code",
   "execution_count": 6,
   "metadata": {
    "collapsed": true
   },
   "outputs": [],
   "source": [
    "# 10k 3grams with confirmed tags, spacy info and match\n",
    "spacy_10k_tagged = pd.merge(\n",
    "    tagged_trigrams[[\n",
    "        'sentence','text_last','text','text_next','confirmed_tag','sentence_tag', 'match'\n",
    "    ]],\n",
    "    spacy_10k_full.drop(['len','real_train'], 1),\n",
    "         on=['sentence','text_last','text','text_next'], how='left').drop_duplicates().rename(\n",
    "columns={'sentence':'tweet', 'sentence_tag':'tweet_tag'})"
   ]
  },
  {
   "cell_type": "code",
   "execution_count": 7,
   "metadata": {
    "collapsed": true
   },
   "outputs": [],
   "source": [
    "# add 'prelim_tag' -- unconfirmed train tag\n",
    "def prelim_tag(t):\n",
    "    tag = str(t).lower()\n",
    "    if (len(tag) == 1) and (tag in 'abcdefgjlmnqrwz1234567'):\n",
    "        return tag\n",
    "    else:\n",
    "        return 'none'"
   ]
  },
  {
   "cell_type": "code",
   "execution_count": 8,
   "metadata": {
    "collapsed": true
   },
   "outputs": [],
   "source": [
    "spacy_10k_tagged['prelim_tag'] = spacy_10k_tagged['text'].map(prelim_tag)"
   ]
  },
  {
   "cell_type": "markdown",
   "metadata": {},
   "source": [
    "## Approaching the problem\n",
    "NYC Subway train lines are single characters: the digits 1-7 and the letters a-g, j, l, m, n, q, r, w and z. For some of these lines, finding mentions is straightforward. It's likely a tweet at or from the MTA with a lone 'Z' or 'Q' is talking about the Broad St. and Broadway express trains respectively. But 'W' can be the W train or short for \"with\", and our cleaning function turns the common \"j/k\" into a hanging 'J' which does not refer to a train.\n",
    "\n",
    "The digits are even more complicated. Of course, numbers can be hours, months, dollars or any other quantity. But also \"3 trains\" could refer to the train line or a commuter annoyed at the number of express trains that have passed their station while they wait for the local.\n",
    "\n",
    "The biggest challenge of all, of course, is the A-train. The 8th Avenue express shares its name with a ubiquitous article that appears on its own far more than it actually refers to a subway line."
   ]
  },
  {
   "cell_type": "markdown",
   "metadata": {},
   "source": [
    "## How to Add Context\n",
    "The single characters on their own are not going to work. We need to preserve the context.\n",
    "\n",
    "The most basic approach would be to just vectorize the entire tweet into binary features. Every word in the entire vocabulary of tweets gets its own column, and every tweet gets a 0 or a 1 depending on whether or not that word appears in the tweet. It's a good start to solving the problem, but it doesn't go far enough. Not only do we want to know which words appear in which tweets, we also want to know how far words are from the mention of the train line.\n",
    "\n",
    "A more advanced approach is to split the tweet into three word chunks (\"3-grams\") of a word and the words which precede and follow it. This strategy allows us to model common syntax patterns. For example, tweets often refer \"the 4 line\" or \"W trains\", which helps us differentiate from cases where \"W\" is short for \"with\" or when someone is saying a train is four minutes away.\n",
    "\n",
    "Our data set is roughly 10000 tweets split into trigrams and manually tagged when the middle word mentions a train."
   ]
  },
  {
   "cell_type": "markdown",
   "metadata": {},
   "source": [
    "### A look at the most common words that precede and follow the mention of a train in a tweet in our data:"
   ]
  },
  {
   "cell_type": "code",
   "execution_count": 9,
   "metadata": {},
   "outputs": [
    {
     "data": {
      "image/png": "[encoded data removed]",
      "text/plain": [
       "<matplotlib.figure.Figure at 0x1a1dff0b38>"
      ]
     },
     "metadata": {},
     "output_type": "display_data"
    }
   ],
   "source": [
    "spacy_10k_tagged[(spacy_10k_tagged['match'] == 1)][['text_last', 'match']].groupby('text_last').count().sort_values('match', ascending=False).head(10).plot(kind='barh', title='Most Common Words Before Train Mentioned');"
   ]
  },
  {
   "cell_type": "code",
   "execution_count": 10,
   "metadata": {},
   "outputs": [
    {
     "data": {
      "image/png": "[encoded data removed]",
      "text/plain": [
       "<matplotlib.figure.Figure at 0x1a1dfef1d0>"
      ]
     },
     "metadata": {},
     "output_type": "display_data"
    }
   ],
   "source": [
    "spacy_10k_tagged[(spacy_10k_tagged['match'] == 1)][['text_next', 'match']].groupby('text_next').count().sort_values('match', ascending=False).head(10).plot(kind='barh', title='Most Common Words After Train Mentioned');"
   ]
  },
  {
   "cell_type": "markdown",
   "metadata": {},
   "source": [
    "Not only is this fundamentally more precise than looking at the whole tweet at once, it also allows us to identify multiple trains mentioned in a single tweet."
   ]
  },
  {
   "cell_type": "markdown",
   "metadata": {},
   "source": [
    "## EDA"
   ]
  },
  {
   "cell_type": "markdown",
   "metadata": {},
   "source": [
    "A brief look at the data."
   ]
  },
  {
   "cell_type": "code",
   "execution_count": 11,
   "metadata": {},
   "outputs": [
    {
     "data": {
      "text/plain": [
       "9788"
      ]
     },
     "execution_count": 11,
     "metadata": {},
     "output_type": "execute_result"
    }
   ],
   "source": [
    "# how many tweets?\n",
    "spacy_10k_tagged.tweet.nunique()"
   ]
  },
  {
   "cell_type": "code",
   "execution_count": 12,
   "metadata": {},
   "outputs": [
    {
     "data": {
      "image/png": "[encoded data removed]",
      "text/plain": [
       "<matplotlib.figure.Figure at 0x1a1befe860>"
      ]
     },
     "metadata": {},
     "output_type": "display_data"
    }
   ],
   "source": [
    "# trigrams per tweet?\n",
    "spacy_10k_tagged[['tweet','text_last']].groupby('tweet').count().hist(bins=20)\n",
    "plt.title('Trigrams per Tweet');"
   ]
  },
  {
   "cell_type": "code",
   "execution_count": 13,
   "metadata": {},
   "outputs": [
    {
     "data": {
      "image/png": "[encoded data removed]",
      "text/plain": [
       "<matplotlib.figure.Figure at 0x1a1befab38>"
      ]
     },
     "metadata": {},
     "output_type": "display_data"
    }
   ],
   "source": [
    "# trigrams per train?\n",
    "spacy_10k_tagged[spacy_10k_tagged['confirmed_tag'] != ''][[\n",
    "    'confirmed_tag','match']].groupby('confirmed_tag').count(\n",
    "    ).sort_index(ascending=False).plot(kind='barh', figsize=(12,10), legend=False)\n",
    "plt.title('Trigrams per Train');"
   ]
  },
  {
   "cell_type": "markdown",
   "metadata": {},
   "source": [
    "## How good does our model have to be?\n",
    "The trigram approach raises a question as to how smart the model really needs to be. If we limit (for now) our scope to single character mentions -- '4' but not 'four', 'N' 'W' but not 'NW -- how much information do we lose if we just count every mention? (Did I really need to spend a few hours tagging 10000 tweets?)\n",
    "\n",
    "### So what is our specificity?"
   ]
  },
  {
   "cell_type": "code",
   "execution_count": 14,
   "metadata": {},
   "outputs": [
    {
     "data": {
      "text/plain": [
       "1    5094\n",
       "0    5064\n",
       "Name: match, dtype: int64"
      ]
     },
     "execution_count": 14,
     "metadata": {},
     "output_type": "execute_result"
    }
   ],
   "source": [
    "# subsetting data on 'prelim_tag' -- single character mentions that could be train lines\n",
    "# counting 'match' -- 1 is a confirmed train mention, 0 is a false positive\n",
    "spacy_10k_tagged[spacy_10k_tagged['prelim_tag'] != 'none'].match.value_counts()"
   ]
  },
  {
   "cell_type": "markdown",
   "metadata": {},
   "source": [
    "Our specificity is about 0.5 across all train lines."
   ]
  },
  {
   "cell_type": "markdown",
   "metadata": {},
   "source": [
    "### Specificity per line"
   ]
  },
  {
   "cell_type": "code",
   "execution_count": 15,
   "metadata": {
    "collapsed": true
   },
   "outputs": [],
   "source": [
    "hits_raw = {}\n",
    "hits_norm = {}\n",
    "for t in 'abcdefgjlmnqrwz1234567':\n",
    "    matches_raw = spacy_10k_tagged[\n",
    "        spacy_10k_tagged['text'].str.lower() == t].match.value_counts(normalize=False, sort=False)\n",
    "    matches_norm = spacy_10k_tagged[\n",
    "        spacy_10k_tagged['text'].str.lower() == t].match.value_counts(normalize=True, sort=False)\n",
    "    for m in ['_raw','_norm']:\n",
    "        if len(eval(f'matches{m}')) == 1:\n",
    "            eval(f'hits{m}')[t] = dict(zip(['hit','miss'], [eval(f'matches{m}')[1],0]))\n",
    "        else:\n",
    "            eval(f'hits{m}')[t] = dict(zip(['miss','hit'], eval(f'matches{m}')))"
   ]
  },
  {
   "cell_type": "code",
   "execution_count": 16,
   "metadata": {},
   "outputs": [
    {
     "data": {
      "image/png": "[encoded data removed]",
      "text/plain": [
       "<matplotlib.figure.Figure at 0x1a1a6b71d0>"
      ]
     },
     "metadata": {},
     "output_type": "display_data"
    },
    {
     "data": {
      "image/png": "[encoded data removed]",
      "text/plain": [
       "<matplotlib.figure.Figure at 0x1a1a6b7278>"
      ]
     },
     "metadata": {},
     "output_type": "display_data"
    }
   ],
   "source": [
    "# percentage of hits and misses by line\n",
    "pd.DataFrame(hits_raw).T.plot(kind='barh', figsize=(10,10), title='Hits and Misses per Line, Raw');\n",
    "pd.DataFrame(hits_norm).T.plot(kind='barh', figsize=(10,10), title='Hits and Misses per Line, Normalized');"
   ]
  },
  {
   "cell_type": "markdown",
   "metadata": {},
   "source": [
    "It's clear there's a wide range of specificity across different lines, something I mentioned earlier."
   ]
  },
  {
   "cell_type": "code",
   "execution_count": 17,
   "metadata": {},
   "outputs": [
    {
     "data": {
      "text/html": [
       "<div>\n",
       "<style>\n",
       "    .dataframe thead tr:only-child th {\n",
       "        text-align: right;\n",
       "    }\n",
       "\n",
       "    .dataframe thead th {\n",
       "        text-align: left;\n",
       "    }\n",
       "\n",
       "    .dataframe tbody tr th {\n",
       "        vertical-align: top;\n",
       "    }\n",
       "</style>\n",
       "<table border=\"1\" class=\"dataframe\">\n",
       "  <thead>\n",
       "    <tr style=\"text-align: right;\">\n",
       "      <th></th>\n",
       "      <th>hit_raw</th>\n",
       "      <th>miss_raw</th>\n",
       "      <th>hit</th>\n",
       "      <th>miss</th>\n",
       "    </tr>\n",
       "  </thead>\n",
       "  <tbody>\n",
       "    <tr>\n",
       "      <th>a</th>\n",
       "      <td>448</td>\n",
       "      <td>3439</td>\n",
       "      <td>0.115256</td>\n",
       "      <td>0.884744</td>\n",
       "    </tr>\n",
       "    <tr>\n",
       "      <th>2</th>\n",
       "      <td>184</td>\n",
       "      <td>322</td>\n",
       "      <td>0.363636</td>\n",
       "      <td>0.636364</td>\n",
       "    </tr>\n",
       "    <tr>\n",
       "      <th>w</th>\n",
       "      <td>89</td>\n",
       "      <td>91</td>\n",
       "      <td>0.494444</td>\n",
       "      <td>0.505556</td>\n",
       "    </tr>\n",
       "    <tr>\n",
       "      <th>3</th>\n",
       "      <td>129</td>\n",
       "      <td>128</td>\n",
       "      <td>0.501946</td>\n",
       "      <td>0.498054</td>\n",
       "    </tr>\n",
       "    <tr>\n",
       "      <th>c</th>\n",
       "      <td>245</td>\n",
       "      <td>238</td>\n",
       "      <td>0.507246</td>\n",
       "      <td>0.492754</td>\n",
       "    </tr>\n",
       "    <tr>\n",
       "      <th>m</th>\n",
       "      <td>197</td>\n",
       "      <td>156</td>\n",
       "      <td>0.558074</td>\n",
       "      <td>0.441926</td>\n",
       "    </tr>\n",
       "    <tr>\n",
       "      <th>4</th>\n",
       "      <td>214</td>\n",
       "      <td>134</td>\n",
       "      <td>0.614943</td>\n",
       "      <td>0.385057</td>\n",
       "    </tr>\n",
       "    <tr>\n",
       "      <th>5</th>\n",
       "      <td>213</td>\n",
       "      <td>128</td>\n",
       "      <td>0.624633</td>\n",
       "      <td>0.375367</td>\n",
       "    </tr>\n",
       "    <tr>\n",
       "      <th>7</th>\n",
       "      <td>102</td>\n",
       "      <td>58</td>\n",
       "      <td>0.637500</td>\n",
       "      <td>0.362500</td>\n",
       "    </tr>\n",
       "    <tr>\n",
       "      <th>1</th>\n",
       "      <td>431</td>\n",
       "      <td>147</td>\n",
       "      <td>0.745675</td>\n",
       "      <td>0.254325</td>\n",
       "    </tr>\n",
       "    <tr>\n",
       "      <th>b</th>\n",
       "      <td>206</td>\n",
       "      <td>47</td>\n",
       "      <td>0.814229</td>\n",
       "      <td>0.185771</td>\n",
       "    </tr>\n",
       "    <tr>\n",
       "      <th>6</th>\n",
       "      <td>309</td>\n",
       "      <td>47</td>\n",
       "      <td>0.867978</td>\n",
       "      <td>0.132022</td>\n",
       "    </tr>\n",
       "    <tr>\n",
       "      <th>d</th>\n",
       "      <td>390</td>\n",
       "      <td>42</td>\n",
       "      <td>0.902778</td>\n",
       "      <td>0.097222</td>\n",
       "    </tr>\n",
       "    <tr>\n",
       "      <th>e</th>\n",
       "      <td>240</td>\n",
       "      <td>25</td>\n",
       "      <td>0.905660</td>\n",
       "      <td>0.094340</td>\n",
       "    </tr>\n",
       "    <tr>\n",
       "      <th>j</th>\n",
       "      <td>116</td>\n",
       "      <td>10</td>\n",
       "      <td>0.920635</td>\n",
       "      <td>0.079365</td>\n",
       "    </tr>\n",
       "    <tr>\n",
       "      <th>g</th>\n",
       "      <td>94</td>\n",
       "      <td>6</td>\n",
       "      <td>0.940000</td>\n",
       "      <td>0.060000</td>\n",
       "    </tr>\n",
       "    <tr>\n",
       "      <th>n</th>\n",
       "      <td>248</td>\n",
       "      <td>14</td>\n",
       "      <td>0.946565</td>\n",
       "      <td>0.053435</td>\n",
       "    </tr>\n",
       "    <tr>\n",
       "      <th>f</th>\n",
       "      <td>503</td>\n",
       "      <td>18</td>\n",
       "      <td>0.965451</td>\n",
       "      <td>0.034549</td>\n",
       "    </tr>\n",
       "    <tr>\n",
       "      <th>r</th>\n",
       "      <td>336</td>\n",
       "      <td>10</td>\n",
       "      <td>0.971098</td>\n",
       "      <td>0.028902</td>\n",
       "    </tr>\n",
       "    <tr>\n",
       "      <th>l</th>\n",
       "      <td>113</td>\n",
       "      <td>3</td>\n",
       "      <td>0.974138</td>\n",
       "      <td>0.025862</td>\n",
       "    </tr>\n",
       "    <tr>\n",
       "      <th>q</th>\n",
       "      <td>264</td>\n",
       "      <td>1</td>\n",
       "      <td>0.996226</td>\n",
       "      <td>0.003774</td>\n",
       "    </tr>\n",
       "    <tr>\n",
       "      <th>z</th>\n",
       "      <td>23</td>\n",
       "      <td>0</td>\n",
       "      <td>1.000000</td>\n",
       "      <td>0.000000</td>\n",
       "    </tr>\n",
       "  </tbody>\n",
       "</table>\n",
       "</div>"
      ],
      "text/plain": [
       "   hit_raw  miss_raw       hit      miss\n",
       "a      448      3439  0.115256  0.884744\n",
       "2      184       322  0.363636  0.636364\n",
       "w       89        91  0.494444  0.505556\n",
       "3      129       128  0.501946  0.498054\n",
       "c      245       238  0.507246  0.492754\n",
       "m      197       156  0.558074  0.441926\n",
       "4      214       134  0.614943  0.385057\n",
       "5      213       128  0.624633  0.375367\n",
       "7      102        58  0.637500  0.362500\n",
       "1      431       147  0.745675  0.254325\n",
       "b      206        47  0.814229  0.185771\n",
       "6      309        47  0.867978  0.132022\n",
       "d      390        42  0.902778  0.097222\n",
       "e      240        25  0.905660  0.094340\n",
       "j      116        10  0.920635  0.079365\n",
       "g       94         6  0.940000  0.060000\n",
       "n      248        14  0.946565  0.053435\n",
       "f      503        18  0.965451  0.034549\n",
       "r      336        10  0.971098  0.028902\n",
       "l      113         3  0.974138  0.025862\n",
       "q      264         1  0.996226  0.003774\n",
       "z       23         0  1.000000  0.000000"
      ]
     },
     "execution_count": 17,
     "metadata": {},
     "output_type": "execute_result"
    }
   ],
   "source": [
    "# Numerically...\n",
    "pd.concat([pd.DataFrame(hits_raw).T.rename(columns={'hit':'hit_raw','miss':'miss_raw'}), pd.DataFrame(hits_norm).T], 1).sort_values('hit')"
   ]
  },
  {
   "cell_type": "markdown",
   "metadata": {},
   "source": [
    "'A' is only right about 12% of the time, while '2' clocks in at about 36%. A number of trains hover between 50% and 60%. A small majority clear %80 in our data, but it's obvious we need to do use the trigram context."
   ]
  },
  {
   "cell_type": "markdown",
   "metadata": {},
   "source": [
    "## Modeling with trigrams"
   ]
  },
  {
   "cell_type": "markdown",
   "metadata": {},
   "source": [
    "Still, how well can we do just predicting whether or not a single character mention is a match, given the trigram and, for good measure, the position of the main word in the tweet?"
   ]
  },
  {
   "cell_type": "code",
   "execution_count": 18,
   "metadata": {
    "collapsed": true
   },
   "outputs": [],
   "source": [
    "# prepping for modeling\n",
    "\n",
    "# subset data\n",
    "df = spacy_10k_tagged[spacy_10k_tagged['text'].map(len) == 1].dropna()[[\n",
    "    'text_last', 'text', 'text_next', 'position', 'match']]\n",
    "\n",
    "# lower all 'text' columns\n",
    "for c in df.columns:\n",
    "    if 'text' in c:\n",
    "        df[f'{c}_lower'] = df[c].map(lambda x: x.lower())\n",
    "        \n",
    "# make dummies of text columns, subsetting modeling columns\n",
    "df_dummies = pd.get_dummies(df.drop(['text_last', 'text', 'text_next',], 1),\n",
    "                  columns=([c for c in df.columns if 'lower' in c]))"
   ]
  },
  {
   "cell_type": "code",
   "execution_count": 19,
   "metadata": {
    "collapsed": true
   },
   "outputs": [],
   "source": [
    "# modeling\n",
    "X = df_dummies.drop('match', 1)\n",
    "y = df_dummies['match']\n",
    "\n",
    "lr = LogisticRegression()\n",
    "\n",
    "X_train, X_test, y_train, y_test = train_test_split(X, y)"
   ]
  },
  {
   "cell_type": "markdown",
   "metadata": {},
   "source": [
    "To prevent data leakage between train and test sets, the test features must be equalized to the training features."
   ]
  },
  {
   "cell_type": "code",
   "execution_count": 20,
   "metadata": {
    "collapsed": true
   },
   "outputs": [],
   "source": [
    "# equalize features in X_train and X_test\n",
    "X_test = X_test[[c for c in X_test.columns if c in X_train.columns]]\n",
    "\n",
    "for c in X_train.columns:\n",
    "    if c not in X_test.columns:\n",
    "        X_test[c] == 0"
   ]
  },
  {
   "cell_type": "code",
   "execution_count": 21,
   "metadata": {},
   "outputs": [
    {
     "data": {
      "text/plain": [
       "LogisticRegression(C=1.0, class_weight=None, dual=False, fit_intercept=True,\n",
       "          intercept_scaling=1, max_iter=100, multi_class='ovr', n_jobs=1,\n",
       "          penalty='l2', random_state=None, solver='liblinear', tol=0.0001,\n",
       "          verbose=0, warm_start=False)"
      ]
     },
     "execution_count": 21,
     "metadata": {},
     "output_type": "execute_result"
    }
   ],
   "source": [
    "# model\n",
    "lr.fit(X_train, y_train)"
   ]
  },
  {
   "cell_type": "markdown",
   "metadata": {},
   "source": [
    "## Results"
   ]
  },
  {
   "cell_type": "markdown",
   "metadata": {},
   "source": [
    "Straightforward accuracy."
   ]
  },
  {
   "cell_type": "code",
   "execution_count": 22,
   "metadata": {},
   "outputs": [
    {
     "name": "stdout",
     "output_type": "stream",
     "text": [
      "Train score: 0.9681889763779528\n",
      "Test score: 0.9562204724409449\n"
     ]
    }
   ],
   "source": [
    "print(f'Train score: {lr.score(X_train, y_train)}')\n",
    "print(f'Test score: {lr.score(X_test, y_test)}')"
   ]
  },
  {
   "cell_type": "markdown",
   "metadata": {},
   "source": [
    "Confusion matrix, via heatmap."
   ]
  },
  {
   "cell_type": "code",
   "execution_count": 23,
   "metadata": {},
   "outputs": [
    {
     "data": {
      "image/png": "[encoded data removed]",
      "text/plain": [
       "<matplotlib.figure.Figure at 0x1a1dfe6a20>"
      ]
     },
     "metadata": {},
     "output_type": "display_data"
    }
   ],
   "source": [
    "pred = lr.predict(X_test)\n",
    "conf = confusion_matrix(y_test, pred)\n",
    "plt.figure(figsize=(10,10))\n",
    "sns.heatmap(conf, annot=True, xticklabels=['true_miss', 'true_hit'], yticklabels=['pred_miss', 'pred_hit']);\n",
    "# sns.heatmap(conf, annot=True)\n",
    "plt.title('Confusion Matrix for Logistic Regression Prediction of Train Mentions');"
   ]
  },
  {
   "cell_type": "markdown",
   "metadata": {},
   "source": [
    "Classification report."
   ]
  },
  {
   "cell_type": "code",
   "execution_count": 24,
   "metadata": {},
   "outputs": [
    {
     "name": "stdout",
     "output_type": "stream",
     "text": [
      "             precision    recall  f1-score   support\n",
      "\n",
      "          0       0.96      0.97      0.96      1883\n",
      "          1       0.96      0.93      0.95      1292\n",
      "\n",
      "avg / total       0.96      0.96      0.96      3175\n",
      "\n"
     ]
    }
   ],
   "source": [
    "print(classification_report(y_test, pred))"
   ]
  },
  {
   "cell_type": "code",
   "execution_count": 25,
   "metadata": {
    "collapsed": true
   },
   "outputs": [],
   "source": [
    "# reassembles prediction with y_test and X_test to see what went wrong\n",
    "def return_rows(y_true, pred, df):\n",
    "    \n",
    "    # pull y_true index\n",
    "    y_rows = y_true.index\n",
    "    \n",
    "    # make df of true values and predicted values\n",
    "    compare = pd.concat(\n",
    "        [pd.DataFrame(y_true), pd.DataFrame(pred).set_index(y_rows)], 1)\n",
    "    \n",
    "    # rename columns\n",
    "    compare.columns = ['actual', 'predicted']\n",
    "    \n",
    "    # make feature for accuracy\n",
    "    compare['right'] = compare.apply(lambda x: True if x['actual'] == x['predicted'] else False, 1)\n",
    "    compare['wrong'] = compare['right'].map(lambda x: not x)\n",
    "    \n",
    "    # subset df on index for 'match' == 0\n",
    "    return pd.concat([df.loc[y_rows], compare[['right', 'wrong']]], 1)"
   ]
  },
  {
   "cell_type": "markdown",
   "metadata": {},
   "source": [
    "A little more clearly: `prelim_tag` is the single character mention from the original tweet. The model predicts whether it is or is not referring to a train in the context of its trigram. Below, we see the number of times the model is right or wrong in its prediction."
   ]
  },
  {
   "cell_type": "code",
   "execution_count": 26,
   "metadata": {},
   "outputs": [
    {
     "data": {
      "text/html": [
       "<div>\n",
       "<style>\n",
       "    .dataframe thead tr:only-child th {\n",
       "        text-align: right;\n",
       "    }\n",
       "\n",
       "    .dataframe thead th {\n",
       "        text-align: left;\n",
       "    }\n",
       "\n",
       "    .dataframe tbody tr th {\n",
       "        vertical-align: top;\n",
       "    }\n",
       "</style>\n",
       "<table border=\"1\" class=\"dataframe\">\n",
       "  <thead>\n",
       "    <tr style=\"text-align: right;\">\n",
       "      <th></th>\n",
       "      <th>right</th>\n",
       "      <th>wrong</th>\n",
       "    </tr>\n",
       "    <tr>\n",
       "      <th>prelim_tag</th>\n",
       "      <th></th>\n",
       "      <th></th>\n",
       "    </tr>\n",
       "  </thead>\n",
       "  <tbody>\n",
       "    <tr>\n",
       "      <th>1</th>\n",
       "      <td>142.0</td>\n",
       "      <td>16.0</td>\n",
       "    </tr>\n",
       "    <tr>\n",
       "      <th>2</th>\n",
       "      <td>122.0</td>\n",
       "      <td>6.0</td>\n",
       "    </tr>\n",
       "    <tr>\n",
       "      <th>3</th>\n",
       "      <td>53.0</td>\n",
       "      <td>5.0</td>\n",
       "    </tr>\n",
       "    <tr>\n",
       "      <th>4</th>\n",
       "      <td>91.0</td>\n",
       "      <td>4.0</td>\n",
       "    </tr>\n",
       "    <tr>\n",
       "      <th>5</th>\n",
       "      <td>61.0</td>\n",
       "      <td>6.0</td>\n",
       "    </tr>\n",
       "    <tr>\n",
       "      <th>6</th>\n",
       "      <td>86.0</td>\n",
       "      <td>5.0</td>\n",
       "    </tr>\n",
       "    <tr>\n",
       "      <th>7</th>\n",
       "      <td>41.0</td>\n",
       "      <td>4.0</td>\n",
       "    </tr>\n",
       "    <tr>\n",
       "      <th>a</th>\n",
       "      <td>927.0</td>\n",
       "      <td>52.0</td>\n",
       "    </tr>\n",
       "    <tr>\n",
       "      <th>b</th>\n",
       "      <td>65.0</td>\n",
       "      <td>7.0</td>\n",
       "    </tr>\n",
       "    <tr>\n",
       "      <th>c</th>\n",
       "      <td>93.0</td>\n",
       "      <td>8.0</td>\n",
       "    </tr>\n",
       "    <tr>\n",
       "      <th>d</th>\n",
       "      <td>111.0</td>\n",
       "      <td>5.0</td>\n",
       "    </tr>\n",
       "    <tr>\n",
       "      <th>e</th>\n",
       "      <td>66.0</td>\n",
       "      <td>4.0</td>\n",
       "    </tr>\n",
       "    <tr>\n",
       "      <th>f</th>\n",
       "      <td>131.0</td>\n",
       "      <td>3.0</td>\n",
       "    </tr>\n",
       "    <tr>\n",
       "      <th>g</th>\n",
       "      <td>23.0</td>\n",
       "      <td>2.0</td>\n",
       "    </tr>\n",
       "    <tr>\n",
       "      <th>j</th>\n",
       "      <td>28.0</td>\n",
       "      <td>1.0</td>\n",
       "    </tr>\n",
       "    <tr>\n",
       "      <th>l</th>\n",
       "      <td>36.0</td>\n",
       "      <td>0.0</td>\n",
       "    </tr>\n",
       "    <tr>\n",
       "      <th>m</th>\n",
       "      <td>93.0</td>\n",
       "      <td>2.0</td>\n",
       "    </tr>\n",
       "    <tr>\n",
       "      <th>n</th>\n",
       "      <td>70.0</td>\n",
       "      <td>5.0</td>\n",
       "    </tr>\n",
       "    <tr>\n",
       "      <th>none</th>\n",
       "      <td>606.0</td>\n",
       "      <td>1.0</td>\n",
       "    </tr>\n",
       "    <tr>\n",
       "      <th>q</th>\n",
       "      <td>63.0</td>\n",
       "      <td>1.0</td>\n",
       "    </tr>\n",
       "    <tr>\n",
       "      <th>r</th>\n",
       "      <td>87.0</td>\n",
       "      <td>0.0</td>\n",
       "    </tr>\n",
       "    <tr>\n",
       "      <th>w</th>\n",
       "      <td>38.0</td>\n",
       "      <td>2.0</td>\n",
       "    </tr>\n",
       "    <tr>\n",
       "      <th>z</th>\n",
       "      <td>3.0</td>\n",
       "      <td>0.0</td>\n",
       "    </tr>\n",
       "  </tbody>\n",
       "</table>\n",
       "</div>"
      ],
      "text/plain": [
       "            right  wrong\n",
       "prelim_tag              \n",
       "1           142.0   16.0\n",
       "2           122.0    6.0\n",
       "3            53.0    5.0\n",
       "4            91.0    4.0\n",
       "5            61.0    6.0\n",
       "6            86.0    5.0\n",
       "7            41.0    4.0\n",
       "a           927.0   52.0\n",
       "b            65.0    7.0\n",
       "c            93.0    8.0\n",
       "d           111.0    5.0\n",
       "e            66.0    4.0\n",
       "f           131.0    3.0\n",
       "g            23.0    2.0\n",
       "j            28.0    1.0\n",
       "l            36.0    0.0\n",
       "m            93.0    2.0\n",
       "n            70.0    5.0\n",
       "none        606.0    1.0\n",
       "q            63.0    1.0\n",
       "r            87.0    0.0\n",
       "w            38.0    2.0\n",
       "z             3.0    0.0"
      ]
     },
     "execution_count": 26,
     "metadata": {},
     "output_type": "execute_result"
    }
   ],
   "source": [
    "wrong = return_rows(y_test, pred, spacy_10k_tagged)\n",
    "wrong[['prelim_tag', 'right', 'wrong']].groupby('prelim_tag').sum()"
   ]
  },
  {
   "cell_type": "markdown",
   "metadata": {},
   "source": [
    "## Cross-validation"
   ]
  },
  {
   "cell_type": "markdown",
   "metadata": {},
   "source": [
    "Running this five more times (with new train/test splits each time) to support the above results."
   ]
  },
  {
   "cell_type": "code",
   "execution_count": 27,
   "metadata": {
    "collapsed": true
   },
   "outputs": [],
   "source": [
    "# custom script to account for the need for feature equalization\n",
    "def cross_val(X, y):\n",
    "    lr = LogisticRegression()\n",
    "    \n",
    "    X_train, X_test, y_train, y_test = train_test_split(X, y)\n",
    "    \n",
    "    # equalize features in X_train and X_test\n",
    "    X_test = X_test[[c for c in X_test.columns if c in X_train.columns]]\n",
    "\n",
    "    for c in X_train.columns:\n",
    "        if c not in X_test.columns:\n",
    "            X_test[c] == 0\n",
    "    \n",
    "    # model\n",
    "    lr.fit(X_train, y_train)\n",
    "    \n",
    "    print(f'Train score: {lr.score(X_train, y_train)}')\n",
    "    print(f'Test score: {lr.score(X_test, y_test)}')\n",
    "    \n",
    "    pred = lr.predict(X_test)\n",
    "    print(classification_report(y_test, pred))\n",
    "    return"
   ]
  },
  {
   "cell_type": "code",
   "execution_count": 28,
   "metadata": {},
   "outputs": [
    {
     "name": "stdout",
     "output_type": "stream",
     "text": [
      "run number 1\n",
      "Train score: 0.968503937007874\n",
      "Test score: 0.9584251968503937\n",
      "             precision    recall  f1-score   support\n",
      "\n",
      "          0       0.95      0.98      0.97      1891\n",
      "          1       0.97      0.93      0.95      1284\n",
      "\n",
      "avg / total       0.96      0.96      0.96      3175\n",
      "\n",
      "run number 2\n",
      "Train score: 0.9686089238845145\n",
      "Test score: 0.9577952755905512\n",
      "             precision    recall  f1-score   support\n",
      "\n",
      "          0       0.96      0.97      0.96      1872\n",
      "          1       0.96      0.94      0.95      1303\n",
      "\n",
      "avg / total       0.96      0.96      0.96      3175\n",
      "\n",
      "run number 3\n",
      "Train score: 0.9682939632545932\n",
      "Test score: 0.9628346456692913\n",
      "             precision    recall  f1-score   support\n",
      "\n",
      "          0       0.96      0.98      0.97      1894\n",
      "          1       0.96      0.94      0.95      1281\n",
      "\n",
      "avg / total       0.96      0.96      0.96      3175\n",
      "\n",
      "run number 4\n",
      "Train score: 0.9694488188976378\n",
      "Test score: 0.952755905511811\n",
      "             precision    recall  f1-score   support\n",
      "\n",
      "          0       0.94      0.98      0.96      1872\n",
      "          1       0.97      0.92      0.94      1303\n",
      "\n",
      "avg / total       0.95      0.95      0.95      3175\n",
      "\n",
      "run number 5\n",
      "Train score: 0.9688188976377953\n",
      "Test score: 0.9609448818897638\n",
      "             precision    recall  f1-score   support\n",
      "\n",
      "          0       0.96      0.98      0.97      1872\n",
      "          1       0.97      0.94      0.95      1303\n",
      "\n",
      "avg / total       0.96      0.96      0.96      3175\n",
      "\n"
     ]
    }
   ],
   "source": [
    "run = 1\n",
    "while run < 6:\n",
    "    print(f'run number {run}')\n",
    "    cross_val(X, y)\n",
    "    run +=1"
   ]
  },
  {
   "cell_type": "markdown",
   "metadata": {},
   "source": [
    "## Conclusion, discussion and next steps"
   ]
  },
  {
   "cell_type": "markdown",
   "metadata": {},
   "source": [
    "I started this project with the intention of building an app which tracks which trains people are mentioning on Twitter, and for that purpose it works as is. Train and test scores are both high and comparable. Most importantly, mistakes are evenly distributed across the train lines in proportion with their appearance. ('W' is probably the most concerning at the moment, but this has as much to do with its rare appearance as anything.)\n",
    "\n",
    "This analysis originally intended to add more context by using the `Spacy` package to tag tweets with simple and detailed parts of speech, as well as syntactic dependency to make an even more accurate model. However, not only does the straightforward trigram model perform very well, the Spacy features did not increase performance.\n",
    "\n",
    "Granted, this model relies on the specific syntax of the MTA in my captured window, and probably somewhat on the nature of the tweets in this time as well. This were sampled in the summer of 2018; the coming months will probably feature fewer complaints about air conditioning on the 1 train and fewer pleas to Cynthia Nixon for salvation.\n",
    "\n",
    "The biggest blind spot right now is probably mentions that break the single character format, whether bunched lines ('NQRW'), parsing errors ('Qtrain') or literal spellings ('four'). But given the performance of the current model, I am comfortable shifting my efforts to building the app."
   ]
  },
  {
   "cell_type": "code",
   "execution_count": null,
   "metadata": {
    "collapsed": true
   },
   "outputs": [],
   "source": []
  }
 ],
 "metadata": {
  "kernelspec": {
   "display_name": "Python [conda env:anaconda3]",
   "language": "python",
   "name": "conda-env-anaconda3-py"
  },
  "language_info": {
   "codemirror_mode": {
    "name": "ipython",
    "version": 3
   },
   "file_extension": ".py",
   "mimetype": "text/x-python",
   "name": "python",
   "nbconvert_exporter": "python",
   "pygments_lexer": "ipython3",
   "version": "3.6.3"
  }
 },
 "nbformat": 4,
 "nbformat_minor": 2
}
